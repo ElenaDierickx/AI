{
 "cells": [
  {
   "cell_type": "markdown",
   "metadata": {},
   "source": [
    "# 1.1: Introductie tot TensorFlow 2"
   ]
  },
  {
   "cell_type": "markdown",
   "metadata": {},
   "source": [
    "Deze notebook is een introductie tot TensorFlow en hoe modellen opgebouwd kunnen worden, gebruik makend van tensoren als basiscomponent.\n",
    "</br>Sommige cellen zijn reeds ingevuld; bij diegene waar __*TODO*__ staat moet je zelf nog iets aanvullen om de code werkende te krijgen."
   ]
  },
  {
   "cell_type": "markdown",
   "metadata": {},
   "source": [
    "## Installatie van TensorFlow"
   ]
  },
  {
   "cell_type": "markdown",
   "metadata": {},
   "source": [
    "TensorFlow is een software framework voor machine learning taken. Wij zullen in het labo de Python-implementatie gebruiken.\n",
    "</br>Alvorens we van start kunnen gaan, moeten we TensorFlow installeren. Wanneer TensorFlow reeds geïnstalleerd is, kan je nagaan wat de versie is (minimum versie 2.0.0 is vereist)."
   ]
  },
  {
   "cell_type": "code",
   "execution_count": 2,
   "metadata": {},
   "outputs": [
    {
     "name": "stdout",
     "output_type": "stream",
     "text": [
      "TensorFlow version: 2.7.0\n"
     ]
    }
   ],
   "source": [
    "# Zet onderstaande regel uit commentaar om de laatste versie van TensorFlow te downloaden.\n",
    "# !pip install tensorflow\n",
    "\n",
    "import tensorflow as tf\n",
    "print(\"TensorFlow version:\",tf.__version__)"
   ]
  },
  {
   "cell_type": "markdown",
   "metadata": {},
   "source": [
    "## 1. Het gebruik van tensoren"
   ]
  },
  {
   "cell_type": "markdown",
   "metadata": {},
   "source": [
    "De naam 'TensorFlow' staat voor de __flow (= wiskundige berekeningen)__ van __Tensoren__. \n",
    "</br>Tensoren zijn data structuren die je kan zien als __multi-dimensionale vectoren__, van bijvoorbeeld het type string of integer. Door gebruik van tensoren kan data voorgesteld worden in hogere dimensies."
   ]
  },
  {
   "cell_type": "markdown",
   "metadata": {},
   "source": [
    "Een <b>Tensor</b> heeft twee belangrijke eigenschappen:\n",
    "- *shape*: geeft de dimensie weer.\n",
    "- *rank*: geeft het aantal dimensies weer."
   ]
  },
  {
   "cell_type": "markdown",
   "metadata": {},
   "source": [
    "In onderstaande cellen wordt duidelijk hoe je zelf een tensor kan definiëren. "
   ]
  },
  {
   "cell_type": "markdown",
   "metadata": {
    "tags": []
   },
   "source": [
    "### 0-dimensionale Tensors (bv. een getal)"
   ]
  },
  {
   "cell_type": "markdown",
   "metadata": {},
   "source": [
    "Aan de hand van een 0-dim tensor kan je waarde zonder dimensies (zoals een getal of een string) toekennen aan een variable. In onderstaand voorbeeld worden 2 constante tensoren aangemaakt."
   ]
  },
  {
   "cell_type": "code",
   "execution_count": 3,
   "metadata": {},
   "outputs": [],
   "source": [
    "sport = tf.constant(\"F1\", tf.string)\n",
    "waarde = tf.constant(3.84, tf.float64)"
   ]
  },
  {
   "cell_type": "markdown",
   "metadata": {},
   "source": [
    "Vervolgens kunnen we de rank (= aantal dimensies van deze tensoren afprinten):"
   ]
  },
  {
   "cell_type": "code",
   "execution_count": 4,
   "metadata": {},
   "outputs": [
    {
     "name": "stdout",
     "output_type": "stream",
     "text": [
      "'sport' is een 0-dim Tensor\n",
      "'waarde' is een 0-dim Tensor\n"
     ]
    }
   ],
   "source": [
    "print(\"'sport' is een {}-dim Tensor\".format(tf.rank(sport))) \n",
    "print(\"'waarde' is een {}-dim Tensor\".format(tf.rank(waarde)))"
   ]
  },
  {
   "cell_type": "markdown",
   "metadata": {},
   "source": [
    "### 1-dimensionale Tensors (vectoren en lists)"
   ]
  },
  {
   "cell_type": "markdown",
   "metadata": {},
   "source": [
    "Dit type tensoren hebben 1 dimensie, en kennen we vooral als vectoren en lijsten. Net als de *rank* drukken we ditmaal ook de *shape* (=dimensie) af."
   ]
  },
  {
   "cell_type": "code",
   "execution_count": 5,
   "metadata": {},
   "outputs": [
    {
     "name": "stdout",
     "output_type": "stream",
     "text": [
      "`sporten` is een 1-d Tensor met als shape: [2]\n",
      "`waarden` is een 1-d Tensor met als shape: [4]\n"
     ]
    }
   ],
   "source": [
    "sporten = tf.constant([\"F1\", \"voetbal\"], tf.string)\n",
    "waarden = tf.constant([398, 38.2, 3, 9], tf.float64)\n",
    "\n",
    "print(\"`sporten` is een {}-d Tensor met als shape: {}\".format(tf.rank(sporten), tf.shape(sporten)))\n",
    "print(\"`waarden` is een {}-d Tensor met als shape: {}\".format(tf.rank(waarden), tf.shape(waarden)))"
   ]
  },
  {
   "cell_type": "markdown",
   "metadata": {},
   "source": [
    "### 2-dimensionale Tensors (matrices)"
   ]
  },
  {
   "cell_type": "markdown",
   "metadata": {},
   "source": [
    "Een 2-dimensionale tensor is een matrix, waar je dus zowel een aantal rijen als kolommen hebt. "
   ]
  },
  {
   "cell_type": "code",
   "execution_count": 8,
   "metadata": {},
   "outputs": [],
   "source": [
    "''' TODO: maak een 2-dimensionale tensor van het type float64. '''\n",
    "matrix = tf.constant([[\"wow\", \"geweldig\"],[\"epico\", \"whauw\"]], tf.string)\n",
    "\n",
    "# Aan onderstaande code hoef je niets aan te wijzigen. Dit is code om te testen of jouw gedefinieerde tensor klopt.\n",
    "assert isinstance(matrix, tf.Tensor), \"matrix moet een tf Tensor object zijn\"\n",
    "assert tf.rank(matrix.numpy()) == 2, \"rank moet gelijk zijn aan 2\""
   ]
  },
  {
   "cell_type": "code",
   "execution_count": 9,
   "metadata": {},
   "outputs": [
    {
     "name": "stdout",
     "output_type": "stream",
     "text": [
      "`matrix` is een 2-d Tensor met als shape: [2 2]\n"
     ]
    }
   ],
   "source": [
    "print(\"`matrix` is een {}-d Tensor met als shape: {}\".format(tf.rank(matrix), tf.shape(matrix)))"
   ]
  },
  {
   "cell_type": "markdown",
   "metadata": {},
   "source": [
    "### Tensors van hogere dimensies"
   ]
  },
  {
   "cell_type": "markdown",
   "metadata": {},
   "source": [
    "Deze worden vooral gebruikt in toepassingen waar in __hogere dimensies__ gewerkt wordt. \n",
    "</br>Zo wordt in computer vision dikwijls met 4-dimensionale tensors gewerkt, waar afbeeldingen als input worden aangeleverd. Mogelijke dimensies in dit geval zijn: \n",
    "- het aantal afbeeldingen\n",
    "- afbeeldingshoogte\n",
    "- afbeeldingsbreedte\n",
    "- aantal kleurkanalen (RGB heeft bijvoorbeeld 3 kleurkanalen)"
   ]
  },
  {
   "cell_type": "code",
   "execution_count": 12,
   "metadata": {},
   "outputs": [],
   "source": [
    "''' \n",
    "TODO: maak een tensor om 50 RGB afbeeldingen op te slaan? Elke afbeelding heeft een grootte van 200 x 200. Je mag dit doen dmv de tf.zeros functie. \n",
    "Zie ook: https://www.tensorflow.org/api_docs/python/tf/zeros\n",
    "'''\n",
    "afbeeldingen = tf.zeros([50,200,200,3], tf.float64)\n",
    "\n",
    "assert isinstance(afbeeldingen, tf.Tensor), \"'afbeeldingen' moet een tf Tensor object zijn\"\n",
    "assert tf.rank(afbeeldingen).numpy() == 4, \"rank moet gelijk zijn aan 4\"\n",
    "assert tf.shape(afbeeldingen).numpy().tolist() == [50, 200, 200, 3], \"matrix heeft de verkeerde shape\""
   ]
  },
  {
   "cell_type": "markdown",
   "metadata": {},
   "source": [
    "Subtensors va multi-dimensionale tensors kunnen opgevraagd worden door gebruik te maken van __slicing__."
   ]
  },
  {
   "cell_type": "markdown",
   "metadata": {},
   "source": [
    "We printen allereerst de volledige matrix:"
   ]
  },
  {
   "cell_type": "code",
   "execution_count": 15,
   "metadata": {},
   "outputs": [
    {
     "name": "stdout",
     "output_type": "stream",
     "text": [
      "tf.Tensor(\n",
      "[[b'wow' b'geweldig']\n",
      " [b'epico' b'whauw']], shape=(2, 2), dtype=string)\n"
     ]
    }
   ],
   "source": [
    "print(matrix)"
   ]
  },
  {
   "cell_type": "markdown",
   "metadata": {},
   "source": [
    "We extraheren de eerste rij, de eerste kolom, en een scalair uit de matrix:"
   ]
  },
  {
   "cell_type": "code",
   "execution_count": 17,
   "metadata": {},
   "outputs": [],
   "source": [
    "rij_vector = matrix[1]\n",
    "kolom_vector = matrix[:,1]\n",
    "scalair = matrix[0,1]"
   ]
  },
  {
   "cell_type": "code",
   "execution_count": 18,
   "metadata": {},
   "outputs": [
    {
     "name": "stdout",
     "output_type": "stream",
     "text": [
      "'rij_vector': [b'epico' b'whauw']\n",
      "'kolom_vector': [b'geweldig' b'whauw']\n",
      "'scalair': b'geweldig'\n"
     ]
    }
   ],
   "source": [
    "print(\"'rij_vector': {}\".format(rij_vector))\n",
    "print(\"'kolom_vector': {}\".format(kolom_vector))\n",
    "print(\"'scalair': {}\".format(scalair))"
   ]
  },
  {
   "cell_type": "markdown",
   "metadata": {},
   "source": [
    "## 2. Berekeningen op Tensors"
   ]
  },
  {
   "cell_type": "markdown",
   "metadata": {},
   "source": [
    "Berekeningen in TensorFlow kunnen uitgevoerd worden dmv *computation graphs*. Een node in zo een graph stelt een variable of een bewerking voor. Door deze te schakelen aan elkaar kunnen we het resultaat van één of meerdere nodes laten doorvloeien naar de volgende in de graph.\n",
    "</br></br>We stellen een graph op door Tensoren te definiëren (die data bevatten) en de wiskundige operaties die er kunnen op uitgevoerd worden (zoals optellen, aftrekken, en vermenigvuldigen). \n",
    "\n",
    "__Voorbeeld 1:__"
   ]
  },
  {
   "cell_type": "markdown",
   "metadata": {},
   "source": [
    "![computation graph](files/graph.png)"
   ]
  },
  {
   "cell_type": "code",
   "execution_count": 19,
   "metadata": {},
   "outputs": [
    {
     "name": "stdout",
     "output_type": "stream",
     "text": [
      "tf.Tensor(84, shape=(), dtype=int32)\n",
      "tf.Tensor(84, shape=(), dtype=int32)\n"
     ]
    }
   ],
   "source": [
    "# Aanmaken van de tensoren + toekennen waarden\n",
    "a = tf.constant(23)\n",
    "b = tf.constant(61)\n",
    "\n",
    "# Optellen van beiden (beide opties zijn mogelijk)\n",
    "c1 = tf.add(a, b)\n",
    "c2 = a + b\n",
    "\n",
    "print(c1)\n",
    "print(c2)"
   ]
  },
  {
   "cell_type": "markdown",
   "metadata": {},
   "source": [
    "Het resultaat van deze berekening is een Tensor met waarde 84. Ga dit na door deze berekening zelf uit te voeren."
   ]
  },
  {
   "cell_type": "markdown",
   "metadata": {},
   "source": [
    "__Voorbeeld 2:__"
   ]
  },
  {
   "attachments": {
    "9006c455-8510-41d7-b0f3-9ac26983cb8c.jpeg": {
     "image/jpeg": "[encoded data removed]"
    }
   },
   "cell_type": "markdown",
   "metadata": {},
   "source": [
    "![graph2.jpeg](attachment:9006c455-8510-41d7-b0f3-9ac26983cb8c.jpeg)"
   ]
  },
  {
   "cell_type": "markdown",
   "metadata": {},
   "source": [
    "Vertrekkende van <code>a</code> en <code>b</code> wordt uiteindelijk output <code>e</code> berekend. Elke node in de graph voert een berekening uit, waarna het resultaat naar de volgende node wordt verstuurd."
   ]
  },
  {
   "cell_type": "markdown",
   "metadata": {},
   "source": [
    "We schrijven zelf een functie om deze berekening te definieren:"
   ]
  },
  {
   "cell_type": "code",
   "execution_count": 20,
   "metadata": {},
   "outputs": [],
   "source": [
    "def func(a,b):\n",
    "    ''' \n",
    "    TODO: definieer de operaties voor c, d, e (gebruik tf.add, tf.subtract, tf.multiply,..) \n",
    "    Bekijk zeker de TensorFlow API voor meer info hoe je deze operaties kan gebruiken: https://www.tensorflow.org/api_docs/python/tf/math/\n",
    "    '''\n",
    "    c = tf.add(a, b)\n",
    "    d = tf.subtract(b, 7)\n",
    "    e = tf.multiply(c, d)\n",
    "    return e"
   ]
  },
  {
   "cell_type": "markdown",
   "metadata": {},
   "source": [
    "Onze functie kunnen we nu oproepen om de computation graph op te lossen. Dit doen we door een waarde voor <code>a</code> en <code>b</code> door te geven."
   ]
  },
  {
   "cell_type": "code",
   "execution_count": 21,
   "metadata": {},
   "outputs": [
    {
     "name": "stdout",
     "output_type": "stream",
     "text": [
      "tf.Tensor(-25.37, shape=(), dtype=float32)\n"
     ]
    }
   ],
   "source": [
    "# Voorbeeld: initialisatie van a = 3,2 en b = 2,7\n",
    "a, b = 3.2, 2.7\n",
    "\n",
    "# Oproepen van onze functie waarbij we a en b doorgeven\n",
    "e = func(a,b)\n",
    "\n",
    "# Het resultaat van de computation graph afdrukken\n",
    "print(e)"
   ]
  },
  {
   "cell_type": "markdown",
   "metadata": {},
   "source": [
    "Het resultaat is opnieuw een Tensor met waarde -25,37."
   ]
  },
  {
   "cell_type": "markdown",
   "metadata": {},
   "source": [
    "## 3. Een neuraal netwerk in TensorFlow"
   ]
  },
  {
   "cell_type": "markdown",
   "metadata": {},
   "source": [
    "Tot nu toe hebben we tensoren gebruikt om een heel eenvoudig neuraal netwerkje op te bouwen. </br>\n",
    "\n",
    "We kunnen een stap verder gaan en een volledig neuraal netwerk bouwen in TensorFlow. Keras wordt als high-level API binnen TensorFlow gebruikt en laat toe om op een intuitieve en laagdrempelige manier modellen te bouwen en te trainen. \n",
    "\n",
    "Let op: het opstellen van een model ≠ trainen van een model. Toch kunnen we reeds een voorspelling laten doen, die weliswaar volledig willekeurige resultaten teruggeeft aangezien de gewichten random zijn geïnitialiseerd.\n",
    "\n",
    "__Voorbeeld:__\n",
    "We starten met een eenvoudig netwerk met __1 neuron en 1 hidden laag__. \n",
    "</br> De functie om een voorspelling te maken in dit kleine netwerk is als volgt: \n",
    "</br></br>$out = \\sigma(WX +b)$ \n",
    "\n",
    "- W = matrix van gewichten van ons netwerk\n",
    "- X = input\n",
    "- b = bias-term (zie ook de theorieles om het belang hiervan op te frissen)\n",
    "- $\\sigma$ = activatiefunctie (hier de sigmoid-functie)\n",
    "- out = het resultaat van deze bewerking\n",
    "</br>\n",
    "\n",
    "*In de legende is in kleur aangegeven hoe je deze nodes kan definieren in Tensorflow.*"
   ]
  },
  {
   "attachments": {
    "bc2dd4d0-955c-4c9c-a941-429c3c30ab01.jpeg": {
     "image/jpeg": "[encoded data removed]"
    }
   },
   "cell_type": "markdown",
   "metadata": {},
   "source": [
    "![graph3.jpeg](attachment:bc2dd4d0-955c-4c9c-a941-429c3c30ab01.jpeg)"
   ]
  },
  {
   "cell_type": "markdown",
   "metadata": {},
   "source": [
    "### Methode 1: door het manueel definieren van een Layer klasse"
   ]
  },
  {
   "cell_type": "markdown",
   "metadata": {},
   "source": [
    "De bouwblokken van neurale netwerken in TensorFlow zijn <code>Layers</code>. \n",
    "</br>Er kunnen op deze componenten bewerkingen op uitgevoerd worden, zoals het updaten van gewichten en het berekenen van de loss.\n",
    "</br>__Merk op: we stellen hier ons model op, maar dit is nog niet getraind. We kunnen het model wel voorspellingen laten doen, maar we zullen op dit moment nog willekeurige resultaten terugkrijgen.__ "
   ]
  },
  {
   "cell_type": "code",
   "execution_count": 22,
   "metadata": {},
   "outputs": [],
   "source": [
    "# x: input\n",
    "# n_output_nodes: aantal output nodes (hier = 1)\n",
    "# input_shape: shape van de input\n",
    "\n",
    "class DenseLayer(tf.keras.layers.Layer):\n",
    "    def __init__(self, n_output_nodes):\n",
    "        super(DenseLayer, self).__init__()\n",
    "        self.n_output_nodes = n_output_nodes\n",
    "        \n",
    "    # In de build functie zal je de dimensies van het netwerk initialiseren\n",
    "    def build(self, input_shape):\n",
    "        d = int(input_shape[-1]) # Door [-1] op te roepen kunnen we het laatste element uit onze input_shape tensor halen.\n",
    "\n",
    "        # Definiëren en initialiseren van de weight paramters (W) en de bias (b).\n",
    "        # Belangrijk: bij het initialiseren van de gewichten worden deze willekeurig geïnitialiseerd (volgens normaalverdeling)\n",
    "        self.W = self.add_weight(\"weight\", shape = [d, self.n_output_nodes])\n",
    "        self.b = self.add_weight(\"bias\", shape = [1, self.n_output_nodes])\n",
    "        \n",
    "        print(self.W)\n",
    "    \n",
    "    # De call functie zullen we gebruiken om onze voorspelling te doen (met andere woorden: een input geven aan ons model en de voorspelling terugkrijgen).\n",
    "    def call(self, x):\n",
    "        '''\n",
    "        TODO: definieer de berekening voor z (zie de figuur). Tip: bekijk de operaties die je op om matrices kan doen in TensorFlow: https://www.tensorflow.org/api_docs/python/tf/linalg/\n",
    "        '''\n",
    "        z = tf.add(tf.multiply(x, self.W), self.b) \n",
    "        \n",
    "        '''TODO: definieer de Sigmoid functie als activatiefunctie.'''\n",
    "        out = tf.sigmoid(z)\n",
    "        return out"
   ]
  },
  {
   "cell_type": "code",
   "execution_count": 23,
   "metadata": {},
   "outputs": [],
   "source": [
    "# We kiezen voor een fixed seed zodat we de resultaten van dit model later kunnen reproduceren\n",
    "tf.random.set_seed(1)"
   ]
  },
  {
   "cell_type": "markdown",
   "metadata": {},
   "source": [
    "We maken vervolgens ons model uit bovenstaande figuur na. Zoals je ziet bestaat ons model uit __hidden 1 Dense laag__ en 1 output."
   ]
  },
  {
   "cell_type": "code",
   "execution_count": 24,
   "metadata": {},
   "outputs": [
    {
     "name": "stdout",
     "output_type": "stream",
     "text": [
      "<tf.Variable 'weight:0' shape=(2, 1) dtype=float32, numpy=\n",
      "array([[-0.947153 ],\n",
      "       [ 1.1355604]], dtype=float32)>\n"
     ]
    }
   ],
   "source": [
    "# Aanmaken van een layer met 1 output node (rode node op de figuur)\n",
    "layer = DenseLayer(1)\n",
    "\n",
    "# We maken ons netwerk aan als shape van de input (1,2) => de vector die X en W opslaat. \n",
    "layer.build((1,2))\n",
    "\n",
    "# We definiëren de input die we aan ons netwerk gaan voeden. Merk opnieuw de shape op. \n",
    "# Je merkt ook dat we [[1,2.]] als constante definiëren. De '.' is hierbij belangrijk, want zo zal dit impliciet van het type float32 zijn. Dit is nodig bij matmul, waar beide operanden van hetzelfde datatype moeten zijn.\n",
    "x = tf.constant([[1,2.]], shape=(1,2))\n",
    "\n",
    "# Out = resultaat van de computation graph\n",
    "out = layer.call(x)"
   ]
  },
  {
   "cell_type": "code",
   "execution_count": 25,
   "metadata": {},
   "outputs": [
    {
     "name": "stdout",
     "output_type": "stream",
     "text": [
      "[[0.28656188 0.13478532]\n",
      " [0.76324844 0.9093837 ]]\n"
     ]
    }
   ],
   "source": [
    "# Printen van de output\n",
    "print(out.numpy())"
   ]
  },
  {
   "cell_type": "markdown",
   "metadata": {},
   "source": [
    "We kunnen vervolgens de gewichten afdrukken. Belangrijk: bij het initialiseren van de gewichten werden deze willekeurig geïnitialiseerd (volgens normaalverdeling)."
   ]
  },
  {
   "cell_type": "code",
   "execution_count": 26,
   "metadata": {},
   "outputs": [
    {
     "name": "stdout",
     "output_type": "stream",
     "text": [
      "[<tf.Variable 'weight:0' shape=(2, 1) dtype=float32, numpy=\n",
      "array([[-0.947153 ],\n",
      "       [ 1.1355604]], dtype=float32)>, <tf.Variable 'bias:0' shape=(1, 1) dtype=float32, numpy=array([[0.03501177]], dtype=float32)>]\n"
     ]
    }
   ],
   "source": [
    "print(layer.weights)"
   ]
  },
  {
   "cell_type": "markdown",
   "metadata": {},
   "source": [
    "### Methode 2: Een model opbouwen via de Sequential klasse"
   ]
  },
  {
   "cell_type": "markdown",
   "metadata": {},
   "source": [
    "Naast het zelf definieren van een <code>Layer</code> zoals we hiervoor hebben gedaan, heeft TensorFlow enkele veelgebruikte <code>Layers</code> voorgedefinieerd, waaronder de <code>Dense</code> laag. </br>Door gebruik te maken van het <code>Sequential</code> model kunnen heel eenvoudig verschillende lagen op elkaar gestapeld worden. \n",
    "</br>Daarnaast zal het ons ook toelaten om slechts met enkele codelijnen een volledig model op te stellen.\n",
    "\n",
    "We stellen ons zelfde model op, ditmaal gebruik makend van het <code>Sequential</code> model.\n",
    "\n",
    "__Merk op: we stellen hier ons model op, maar dit is nog niet getraind. We kunnen het model wel voorspellingen laten doen, maar we zullen op dit moment nog willekeurige resultaten terugkrijgen.__ "
   ]
  },
  {
   "cell_type": "code",
   "execution_count": 34,
   "metadata": {},
   "outputs": [],
   "source": [
    "tf.random.set_seed(1)\n",
    "\n",
    "from tensorflow.keras import Sequential\n",
    "from tensorflow.keras.layers import Dense\n",
    "\n",
    "# Aantal output nodes\n",
    "n_output_nodes = 1\n",
    "\n",
    "# Definieren van het model\n",
    "model = Sequential()\n",
    "\n",
    "'''TODO: \n",
    "Definieer een Dense laag (=fully-connected) om z te berekenen.\n",
    "Tip: https://www.tensorflow.org/api_docs/python/tf/keras/layers/Dense\n",
    "'''\n",
    "dense_layer = tf.keras.layers.Dense(n_output_nodes)\n",
    "\n",
    "# Voeg de Dense laag toe aan het model\n",
    "model.add(dense_layer)"
   ]
  },
  {
   "cell_type": "code",
   "execution_count": 37,
   "metadata": {},
   "outputs": [
    {
     "name": "stdout",
     "output_type": "stream",
     "text": [
      "tf.Tensor([[1.3239678]], shape=(1, 1), dtype=float32)\n"
     ]
    }
   ],
   "source": [
    "# Testen van het model\n",
    "x = tf.constant([[1,2.]], shape = (1,2))\n",
    "\n",
    "'''TODO: doe een voorspelling met de input.'''\n",
    "out = model.call(x)\n",
    "print(out)"
   ]
  },
  {
   "cell_type": "markdown",
   "metadata": {},
   "source": [
    "We kunnen vervolgens de gewichten afdrukken. Belangrijk: bij het initialiseren van de gewichten werden deze willekeurig geïnitialiseerd (volgens normaalverdeling)."
   ]
  },
  {
   "cell_type": "code",
   "execution_count": 38,
   "metadata": {},
   "outputs": [
    {
     "name": "stdout",
     "output_type": "stream",
     "text": [
      "[<tf.Variable 'dense_2/kernel:0' shape=(2, 1) dtype=float32, numpy=\n",
      "array([[-0.947153 ],\n",
      "       [ 1.1355604]], dtype=float32)>, <tf.Variable 'dense_2/bias:0' shape=(1,) dtype=float32, numpy=array([0.], dtype=float32)>]\n"
     ]
    }
   ],
   "source": [
    "print(model.weights)"
   ]
  },
  {
   "cell_type": "markdown",
   "metadata": {},
   "source": [
    "### Methode 3: Model Subklasse (optioneel - voor de liefhebbers)"
   ]
  },
  {
   "cell_type": "markdown",
   "metadata": {},
   "source": [
    "Een alternatieve manier om een model op te stellen is door een <code>subklasse</code> te maken van <code>Model</code>. </br>De <code>Model</code> klasse laat toe om op een flexibele manier __eigen lagen, activatiefuncties en modellen te definieren__, waarna voorspellingen gemaakt kunnen worden (forward propagation) door de <code>call</code> functie op te roepen.\n",
    "\n",
    "We stellen ditmaal ons model op door gebruik te maken van de <code>Model</code> subklasse:"
   ]
  },
  {
   "cell_type": "code",
   "execution_count": null,
   "metadata": {},
   "outputs": [],
   "source": [
    "tf.random.set_seed(1)\n",
    "\n",
    "from tensorflow.keras import Model\n",
    "from tensorflow.keras.layers import Dense\n",
    "\n",
    "class SubclassModel(tf.keras.Model):\n",
    "    def __init__(self, n_output_nodes):\n",
    "        super(SubclassModel, self).__init__()\n",
    "        '''\n",
    "        Definieer de Dense laag. Vergeet de activatiefunctie ook niet te definiëren.\n",
    "        '''\n",
    "        self.dense_layer = \n",
    "        \n",
    "    def call(self, inputs):\n",
    "        return self.dense_layer(inputs)"
   ]
  },
  {
   "cell_type": "code",
   "execution_count": null,
   "metadata": {},
   "outputs": [],
   "source": [
    "# Testen van het model\n",
    "n_output_nodes = 1\n",
    "model = SubclassModel(n_output_nodes)\n",
    "\n",
    "x = tf.constant([[1,2.]], shape = (1,2))\n",
    "\n",
    "print(model.call(x))"
   ]
  },
  {
   "cell_type": "markdown",
   "metadata": {},
   "source": [
    "De Model subklasse geeft ons veel flexibiliteit zodat het model zich anders kan gedragen bij training en inferencing. Door bijvoorbeeld een boolean <code>geefInputEnShape</code> te voorzien in de <code>Call</code> functie, kunnen we de input van het model teruggeven in plaats van forward propagation te laten uitvoeren."
   ]
  },
  {
   "cell_type": "code",
   "execution_count": null,
   "metadata": {},
   "outputs": [],
   "source": [
    "from tensorflow.keras import Model\n",
    "from tensorflow.keras.layers import Dense\n",
    "\n",
    "class SubclassModel(tf.keras.Model):\n",
    "    # In __init__ definieren we de lagen\n",
    "    def __init__(self, n_output_nodes):\n",
    "        super(SubclassModel, self).__init__()\n",
    "        self.dense_layer = tf.keras.layers.Dense(n_output_nodes, activation = \"sigmoid\")\n",
    "    \n",
    "    '''Todo: voorzie mogelijkheid dat ofwel de voorspelling, ofwel de input wordt weergegeven (boolean geefTerug) '''\n",
    "    def call(self, inputs, geefInputEnShape=False):\n",
    "        x = self.dense_layer(inputs)\n",
    "        \n",
    "        if geefInputEnShape:\n",
    "            \n",
    "        return x"
   ]
  },
  {
   "cell_type": "code",
   "execution_count": null,
   "metadata": {},
   "outputs": [],
   "source": [
    "# Testen van het model\n",
    "\n",
    "n_output_nodes = 1\n",
    "model = SubclassModel(n_output_nodes)\n",
    "\n",
    "x = tf.constant([[1,2.]], shape = (1,2))\n",
    "out_forward_propagation = model.call(x)\n",
    "print(\"Forward propagation output: {}\".format(out_forward_propagation))"
   ]
  },
  {
   "cell_type": "code",
   "execution_count": null,
   "metadata": {},
   "outputs": [],
   "source": [
    "'''TODO: roep nu de call methode op waarbij de input en shape teruggegeven worden'''\n",
    "\n",
    "out_input_and_shape = \n",
    "print(\"Output input en shape: {}\".format(out_input_and_shape))"
   ]
  },
  {
   "cell_type": "markdown",
   "metadata": {},
   "source": [
    "## 4. Optimaliseren van een loss functie (later kunnen we deze functionaliteit gebruiken om een neuraal netwerk te trainen)"
   ]
  },
  {
   "cell_type": "markdown",
   "metadata": {},
   "source": [
    "### Gradient Tape"
   ]
  },
  {
   "cell_type": "markdown",
   "metadata": {},
   "source": [
    "*Automatic differentiation* (gebruik maken van de kettingregel om op een efficiente manier de gradients te berekenen) ligt aan de basis van de trainingsfase (zie theorie). \n",
    "</br>TensorFlow maakt gebruik van GradientTape <code>tf.GradientTape</code> om bewerkingen bij te houden zodat deze later gebruikt kunnen worden om de gradients te berekenen. \n",
    "\n",
    "Bij Forward Propagation worden alle bewerkingen dan bijgehouden op een soort \"tape\" die als het ware \"omgekeerd afgespeeld\" wordt om de gradients te berekenen. \n",
    "\n",
    "</br>__Voorbeeld:__\n",
    "\n",
    "Met een eenvoudig voorbeeld gaan we de werking van de <code>GradientTape</code> na. \n",
    "\n",
    "Gegeven is de functie $y = 3x^2$:"
   ]
  },
  {
   "attachments": {
    "1aee0997-808b-4601-bdab-53ab46813d41.png": {
     "image/png": "[encoded data removed]"
    }
   },
   "cell_type": "markdown",
   "metadata": {},
   "source": [
    "![plot.png](attachment:1aee0997-808b-4601-bdab-53ab46813d41.png)"
   ]
  },
  {
   "cell_type": "markdown",
   "metadata": {},
   "source": [
    "Van deze functie willen we de __gradient__ (= de partiële afgeleide) berekenen. We geven je nu al de oplossing ($y' = 6x$), maar we gaan hetzelfde resultaat ook via <code>GradientTape</code> proberen bekomen. \n",
    "</br>In het voorbeeld gebruiken we $x = 3$ als variabele om de correctheid te testen. Ingevuld zou dit dus $y' = 18$ moeten geven."
   ]
  },
  {
   "cell_type": "code",
   "execution_count": 39,
   "metadata": {},
   "outputs": [],
   "source": [
    "# y = 3x^2\n",
    "# Voorbeeld met x = 3.0\n",
    "\n",
    "x = tf.Variable(3.0) \n",
    "\n",
    "# Initialisatie van de Gradient Tape\n",
    "with tf.GradientTape() as tape:\n",
    "    # Definitie van de loss functie (hier dus de functie uit ons voorbeeld)\n",
    "    y = 3 * x ** 2\n",
    "    \n",
    "## Berekenen van de gradient = partiël afgeleide van y tot x\n",
    "dy_dx = tape.gradient(y, x) # dy_dx = 6x"
   ]
  },
  {
   "cell_type": "markdown",
   "metadata": {},
   "source": [
    "We kunnen vervolgens de gradient tape (of dus de partieel afgeleide van deze functie) berekenen, waarbij x = 3."
   ]
  },
  {
   "cell_type": "code",
   "execution_count": 40,
   "metadata": {},
   "outputs": [
    {
     "name": "stdout",
     "output_type": "stream",
     "text": [
      "tf.Tensor(18.0, shape=(), dtype=float32)\n"
     ]
    }
   ],
   "source": [
    "print(dy_dx)"
   ]
  },
  {
   "cell_type": "markdown",
   "metadata": {},
   "source": [
    "Het resultaat is hier dus 18. Merk op dat dit overeenkomt met onze eerdere, analytisch berekening."
   ]
  },
  {
   "cell_type": "markdown",
   "metadata": {},
   "source": [
    "### Minimaliseren van de loss functie"
   ]
  },
  {
   "cell_type": "markdown",
   "metadata": {},
   "source": [
    "Wanneer we een netwerk trainen, wordt __Gradient Descent__ gebruikt om de loss functie te minimaliseren. </br>We berekenen de gradient van de functie $y$, die aangeeft aan in welke richting deze functie het sterkst varieert. Hierdoor weten we dus ook in welke richting we moeten stappen in het landschap om het minimum van deze functie te bekomen.\n",
    "\n",
    "__Voorbeeld:__\n",
    "</br>In dit voorbeeld gaan we de loss proberen minimaliseren. We hebben een target variable $x_t$, die we een initiële, zelf gekozen waarde hebben toegekend (hier bv. is $x_t$ = 3).\n",
    "</br>Vervolgens willen we deze waarde proberen voorspellen met de variabele $x$. Je kan dit interpreteren als onze *gok-variabele*.\n",
    "\n",
    "Analytisch kunnen we dit eenvoudig oplossen ($x = x_t$), maar in dit voorbeeld doen we dit door de loss functie $L = (x - x_t)^2$ te minimaliseren door gebruik te maken van <code>GradientTape</code>. </br>Wanneer bijvoorbeeld $x$ = 1, dan is onze loss = 4 want $(x - x_t)^2$ = $(1 - 3)^2$ = 4.\n",
    "\n",
    "Wanneer we volledige neurale netwerken gaan trainen komt deze techniek goed van pas. "
   ]
  },
  {
   "cell_type": "code",
   "execution_count": 42,
   "metadata": {},
   "outputs": [],
   "source": [
    "import matplotlib.pyplot as plt"
   ]
  },
  {
   "cell_type": "code",
   "execution_count": 43,
   "metadata": {
    "jupyter": {
     "source_hidden": true
    },
    "tags": []
   },
   "outputs": [
    {
     "name": "stdout",
     "output_type": "stream",
     "text": [
      "x=[[0.40308788]]\n"
     ]
    },
    {
     "data": {
      "text/plain": [
       "Text(0, 0.5, 'x')"
      ]
     },
     "execution_count": 43,
     "metadata": {},
     "output_type": "execute_result"
    },
    {
     "data": {
      "image/png": "[encoded data removed]",
      "text/plain": [
       "<Figure size 432x288 with 1 Axes>"
      ]
     },
     "metadata": {
      "needs_background": "light"
     },
     "output_type": "display_data"
    }
   ],
   "source": [
    "# Toekennen van een willekeurige waarde aan x\n",
    "\n",
    "x = tf.Variable([tf.random.normal([1])])\n",
    "print(\"x={}\".format(x.numpy()))\n",
    "\n",
    "learning_rate = 1e-2 # ingestelde learning rate\n",
    "history = []\n",
    "\n",
    "x_t = 3 # target label dat we willen voorspellen\n",
    "\n",
    "# Stochastic Gradient descent wordt een aantal iteraties uitgevoerd, waar per iteratie de loss wordt berekend, de gradient, en de gradients worden geüpdatet.\n",
    "for i in range(250):\n",
    "    with tf.GradientTape() as tape:\n",
    "        '''TODO: definieer de loss functie, zoals hierboven gedefinieerd'''\n",
    "        loss = (x - x_t)**2\n",
    "    \n",
    "    # Minimaliseren van de loss mbv Gradient Tape\n",
    "    grad = tape.gradient(loss, x)\n",
    "    x_new = x - learning_rate * grad \n",
    "    x.assign(x_new) # updaten van x\n",
    "    history.append(x.numpy()[0]) # bijhouden van x zodat we kunnen plotten\n",
    "    \n",
    "# Plotten van de waarde x terwijl we de loss minimaliseren\n",
    "plt.plot(history)\n",
    "plt.plot([0,400],[x_t,x_t])\n",
    "plt.legend((\"Voorspelling x\", \"Echte waarde x_t\"))\n",
    "plt.xlabel('Iteratie')\n",
    "plt.ylabel('x')"
   ]
  },
  {
   "cell_type": "markdown",
   "metadata": {},
   "source": [
    "In bovenstaande grafiek kan je het verloop van zien van onze voorspelling $x$ (blauw) en onze initieel gekozen target waarde $x_t$ (oranje). Naarmate we meer iteraties uitvoeren, wordt de loss van onze functie kleiner, en dus benadert $x$ steeds beter $x_t$. Achter de schermen berekenen we de gradient (en de daaruit volgende loss) en passen we onze parameter $x$ aan.\n",
    "\n",
    "In dit voorbeeld gebruiken we <code>GradientTape</code> om onze loss te minimaliseren. Uiteraard wisten we als van op voorhand dat $x$ gelijk moest zijn aan $x_t$ om aan een loss van 0 te komen, maar door dit eenvoudig voorbeeld zie je hoe je dit kan inzetten om een loss functie te minimaliseren. \n",
    "\n",
    "De implementatie van een <code>GradientTape</code> komt natuurlijk volledig tot zijn recht wanneer we een volwaardig neuraal netwerk gaan trainen. Wanneer je een model opstelt dat niet erg geavanceerd is, kan je in plaats van een <code>GradientTape</code> altijd de <code>Sequential</code> klasse gebruiken, wat een iets laagdrempelige manier van werken is."
   ]
  },
  {
   "cell_type": "code",
   "execution_count": null,
   "metadata": {},
   "outputs": [],
   "source": []
  }
 ],
 "metadata": {
  "kernelspec": {
   "display_name": "Python 3 (ipykernel)",
   "language": "python",
   "name": "python3"
  },
  "language_info": {
   "codemirror_mode": {
    "name": "ipython",
    "version": 3
   },
   "file_extension": ".py",
   "mimetype": "text/x-python",
   "name": "python",
   "nbconvert_exporter": "python",
   "pygments_lexer": "ipython3",
   "version": "3.9.9"
  }
 },
 "nbformat": 4,
 "nbformat_minor": 4
}
